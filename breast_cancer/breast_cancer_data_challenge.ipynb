{
 "cells": [
  {
   "cell_type": "code",
   "execution_count": null,
   "metadata": {},
   "outputs": [],
   "source": [
    "*Breast Cancer data challenge*\n",
    "\n",
    "you belong to a data team at a local research hospital. you've been tasked with developing a means to help doctors diagnose breast cancer. you've been given data about biopsied breast cells; where it is benign (not harmful) or malignant (cancerous).\n",
    "\n",
    "1. what features of a cell are the largest drivers of malignancy?\n",
    "2. how would a physician use your product?\n",
    "3. there is a non-zero cost in time and money to collect each feature about a given cell. how would you go about determining the most cost-effective method of detecting malignancy?\n",
    "\n",
    "We want to predict the cancer state using information about the cancerous cells."
   ]
  },
  {
   "cell_type": "code",
   "execution_count": 6,
   "metadata": {},
   "outputs": [],
   "source": [
    "import pandas as pd\n",
    "\n",
    "\n",
    "def clean_names(df):\n",
    "    '''a function for cleaning column names to be usable'''\n",
    "    df.columns = df.columns.str.strip()\n",
    "    df.columns = df.columns.str.lower()\n",
    "    df.columns = df.columns.str.replace(' ', '_')\n",
    "    df.columns = df.columns.str.replace('(', '')\n",
    "    df.columns = df.columns.str.replace(')', '')\n",
    "    return df\n",
    "    \n",
    "    \n",
    "# import data\n",
    "data_breast = pd.read_csv('breast-cancer-wisconsin.txt')\n",
    "# reminder:\n",
    "# class is cancer state\n",
    "# benign == 2\n",
    "# malignant == 4\n",
    "\n",
    "# messy column names\n",
    "data_breast = clean_names(data_breast)"
   ]
  },
  {
   "cell_type": "markdown",
   "metadata": {},
   "source": [
    "The first question I like to ask is what is the missing data situation like. Are there are lot of missing values? Are they randomly distributed? Or are the concetrated in certain observations?"
   ]
  },
  {
   "cell_type": "code",
   "execution_count": 7,
   "metadata": {},
   "outputs": [
    {
     "name": "stdout",
     "output_type": "stream",
     "text": [
      "True\n",
      "index                           0\n",
      "id                              0\n",
      "clump_thickness                 0\n",
      "uniformity_of_cell_size        28\n",
      "uniformity_of_cell_shape       28\n",
      "marginal_adhesion              28\n",
      "single_epithelial_cell_size    28\n",
      "bare_nuclei                    28\n",
      "bland_chromatin                28\n",
      "normal_nucleoli                28\n",
      "mitoses                        28\n",
      "class                          28\n",
      "dtype: int64\n"
     ]
    }
   ],
   "source": [
    "# any missing data?\n",
    "print(data_breast.isnull().values.any())\n",
    "# which columns have NAs?\n",
    "sum_na = data_breast.isna().sum()\n",
    "print(sum_na)"
   ]
  },
  {
   "cell_type": "markdown",
   "metadata": {},
   "source": [
    "most columns have NAs. also there are always 28 NAs, even in the cancer class.\n",
    "\n",
    "are they always the same rows?"
   ]
  },
  {
   "cell_type": "code",
   "execution_count": 8,
   "metadata": {},
   "outputs": [
    {
     "name": "stdout",
     "output_type": "stream",
     "text": [
      "       index       id  clump_thickness uniformity_of_cell_size  \\\n",
      "355      355  1111249               10                     NaN   \n",
      "573      573  1111249               10                     NaN   \n",
      "1188    1188   601265               10                     NaN   \n",
      "1980    1980  1241035                7                     NaN   \n",
      "3981    3981   691628                8                     NaN   \n",
      "4104    4104  1112209                8                     NaN   \n",
      "4460    4460  1198641               10                     NaN   \n",
      "4788    4788  1169049                7                     NaN   \n",
      "4903    4903  1200892                8                     NaN   \n",
      "5340    5340  1111249               10                     NaN   \n",
      "5435    5435  1169049                7                     NaN   \n",
      "7945    7945   691628                8                     NaN   \n",
      "8145    8145  1142706                5                     NaN   \n",
      "9301    9301  1110524               10                     NaN   \n",
      "9872    9872  1107684                6                     NaN   \n",
      "10313  10313  1169049                7                     NaN   \n",
      "10337  10337   691628                8                     NaN   \n",
      "12351  12351  1111249               10                     NaN   \n",
      "12555  12555  1111249               10                     NaN   \n",
      "13647  13647  1111249               10                     NaN   \n",
      "14453  14453  1106829                7                     NaN   \n",
      "14615  14615   601265               10                     NaN   \n",
      "14852  14852  1198641               10                     NaN   \n",
      "14901  14901   378275               10                     NaN   \n",
      "14971  14971   601265               10                     NaN   \n",
      "15001  15001  1198641               10                     NaN   \n",
      "15680  15680  1111249               10                     NaN   \n",
      "15829  15829  1107684                6                     NaN   \n",
      "\n",
      "      uniformity_of_cell_shape marginal_adhesion single_epithelial_cell_size  \\\n",
      "355                        NaN               NaN                         NaN   \n",
      "573                        NaN               NaN                         NaN   \n",
      "1188                       NaN               NaN                         NaN   \n",
      "1980                       NaN               NaN                         NaN   \n",
      "3981                       NaN               NaN                         NaN   \n",
      "4104                       NaN               NaN                         NaN   \n",
      "4460                       NaN               NaN                         NaN   \n",
      "4788                       NaN               NaN                         NaN   \n",
      "4903                       NaN               NaN                         NaN   \n",
      "5340                       NaN               NaN                         NaN   \n",
      "5435                       NaN               NaN                         NaN   \n",
      "7945                       NaN               NaN                         NaN   \n",
      "8145                       NaN               NaN                         NaN   \n",
      "9301                       NaN               NaN                         NaN   \n",
      "9872                       NaN               NaN                         NaN   \n",
      "10313                      NaN               NaN                         NaN   \n",
      "10337                      NaN               NaN                         NaN   \n",
      "12351                      NaN               NaN                         NaN   \n",
      "12555                      NaN               NaN                         NaN   \n",
      "13647                      NaN               NaN                         NaN   \n",
      "14453                      NaN               NaN                         NaN   \n",
      "14615                      NaN               NaN                         NaN   \n",
      "14852                      NaN               NaN                         NaN   \n",
      "14901                      NaN               NaN                         NaN   \n",
      "14971                      NaN               NaN                         NaN   \n",
      "15001                      NaN               NaN                         NaN   \n",
      "15680                      NaN               NaN                         NaN   \n",
      "15829                      NaN               NaN                         NaN   \n",
      "\n",
      "      bare_nuclei bland_chromatin normal_nucleoli mitoses class  \n",
      "355           NaN             NaN             NaN     NaN   NaN  \n",
      "573           NaN             NaN             NaN     NaN   NaN  \n",
      "1188          NaN             NaN             NaN     NaN   NaN  \n",
      "1980          NaN             NaN             NaN     NaN   NaN  \n",
      "3981          NaN             NaN             NaN     NaN   NaN  \n",
      "4104          NaN             NaN             NaN     NaN   NaN  \n",
      "4460          NaN             NaN             NaN     NaN   NaN  \n",
      "4788          NaN             NaN             NaN     NaN   NaN  \n",
      "4903          NaN             NaN             NaN     NaN   NaN  \n",
      "5340          NaN             NaN             NaN     NaN   NaN  \n",
      "5435          NaN             NaN             NaN     NaN   NaN  \n",
      "7945          NaN             NaN             NaN     NaN   NaN  \n",
      "8145          NaN             NaN             NaN     NaN   NaN  \n",
      "9301          NaN             NaN             NaN     NaN   NaN  \n",
      "9872          NaN             NaN             NaN     NaN   NaN  \n",
      "10313         NaN             NaN             NaN     NaN   NaN  \n",
      "10337         NaN             NaN             NaN     NaN   NaN  \n",
      "12351         NaN             NaN             NaN     NaN   NaN  \n",
      "12555         NaN             NaN             NaN     NaN   NaN  \n",
      "13647         NaN             NaN             NaN     NaN   NaN  \n",
      "14453         NaN             NaN             NaN     NaN   NaN  \n",
      "14615         NaN             NaN             NaN     NaN   NaN  \n",
      "14852         NaN             NaN             NaN     NaN   NaN  \n",
      "14901         NaN             NaN             NaN     NaN   NaN  \n",
      "14971         NaN             NaN             NaN     NaN   NaN  \n",
      "15001         NaN             NaN             NaN     NaN   NaN  \n",
      "15680         NaN             NaN             NaN     NaN   NaN  \n",
      "15829         NaN             NaN             NaN     NaN   NaN  \n"
     ]
    }
   ],
   "source": [
    "missing_obs = data_breast[data_breast.isnull().any(axis=1)]\n",
    "print(missing_obs)"
   ]
  },
  {
   "cell_type": "markdown",
   "metadata": {},
   "source": [
    "luckily for me, where there is missing data, \n",
    "those entries are missing all data (except clump thickness)\n",
    "\n",
    "this makes imputation very difficult because imputing whole rows, not indiv values so let's just drop those observations."
   ]
  },
  {
   "cell_type": "code",
   "execution_count": 9,
   "metadata": {},
   "outputs": [],
   "source": [
    "data_clean = data_breast.dropna()"
   ]
  },
  {
   "cell_type": "markdown",
   "metadata": {},
   "source": [
    "There might be other issues lurking in our data. Let's dive deeper to see if there are miscodings or strings where they shouldn't be."
   ]
  },
  {
   "cell_type": "code",
   "execution_count": 12,
   "metadata": {},
   "outputs": [
    {
     "data": {
      "text/plain": [
       "index                           int64\n",
       "id                              int64\n",
       "clump_thickness                 int64\n",
       "uniformity_of_cell_size        object\n",
       "uniformity_of_cell_shape       object\n",
       "marginal_adhesion              object\n",
       "single_epithelial_cell_size    object\n",
       "bare_nuclei                    object\n",
       "bland_chromatin                object\n",
       "normal_nucleoli                object\n",
       "mitoses                        object\n",
       "class                          object\n",
       "dtype: object"
      ]
     },
     "execution_count": 12,
     "metadata": {},
     "output_type": "execute_result"
    }
   ],
   "source": [
    "# all of these columns should be int64 type\n",
    "data_clean.dtypes\n",
    "# they are not!\n",
    "# this means there are mixed types in the columns"
   ]
  },
  {
   "cell_type": "code",
   "execution_count": 16,
   "metadata": {},
   "outputs": [
    {
     "data": {
      "text/plain": [
       "{'#',\n",
       " '1',\n",
       " '10',\n",
       " '100',\n",
       " '2',\n",
       " '3',\n",
       " '30',\n",
       " '4',\n",
       " '40',\n",
       " '5',\n",
       " '50',\n",
       " '6',\n",
       " '60',\n",
       " '7',\n",
       " '70',\n",
       " '8',\n",
       " '9',\n",
       " '?',\n",
       " 'No idea'}"
      ]
     },
     "execution_count": 16,
     "metadata": {},
     "output_type": "execute_result"
    }
   ],
   "source": [
    "# unique values in a sample column\n",
    "# if correct, should only be integer values 1-10\n",
    "set(data_clean.uniformity_of_cell_shape)"
   ]
  },
  {
   "cell_type": "raw",
   "metadata": {},
   "source": [
    "Two things pop out here: text encodings of NA, and miscoded values.\n",
    "\n",
    "The text encodings are '#', '?', and 'No idea'.\n",
    "\n",
    "The miscoded values appear to have extra 0. We know 10 is a legal value, but values of 20 or 100 are not.\n",
    "\n",
    "First, let's get rid of the text encodings. Then we can decrease to order of magnitude for all values greater than 10 by 1."
   ]
  },
  {
   "cell_type": "code",
   "execution_count": 28,
   "metadata": {},
   "outputs": [
    {
     "data": {
      "text/plain": [
       "167       6.0\n",
       "213      10.0\n",
       "243       4.0\n",
       "374       6.0\n",
       "765       4.0\n",
       "924       6.0\n",
       "1100      6.0\n",
       "1191      3.0\n",
       "1222      4.0\n",
       "1291     10.0\n",
       "1430      4.0\n",
       "1546      4.0\n",
       "1875      6.0\n",
       "1888      5.0\n",
       "1922      6.0\n",
       "2053      6.0\n",
       "2067      6.0\n",
       "2166     10.0\n",
       "2183     10.0\n",
       "2306      4.0\n",
       "2377      5.0\n",
       "2392      5.0\n",
       "2407      5.0\n",
       "2492      6.0\n",
       "2586      5.0\n",
       "2809      4.0\n",
       "2819      6.0\n",
       "2846      4.0\n",
       "2906      4.0\n",
       "2945      4.0\n",
       "         ... \n",
       "12233     4.0\n",
       "12350     4.0\n",
       "12427     4.0\n",
       "12486     7.0\n",
       "12688     6.0\n",
       "12884     4.0\n",
       "12918     5.0\n",
       "13012     7.0\n",
       "13375    10.0\n",
       "13440     4.0\n",
       "13453     4.0\n",
       "13595     4.0\n",
       "13699     4.0\n",
       "13822     3.0\n",
       "13907     5.0\n",
       "14030     6.0\n",
       "14117     4.0\n",
       "14149     4.0\n",
       "14204     4.0\n",
       "14295     5.0\n",
       "14394     6.0\n",
       "14405     4.0\n",
       "14443     3.0\n",
       "14808     4.0\n",
       "14967    10.0\n",
       "14984     5.0\n",
       "15196     6.0\n",
       "15479     6.0\n",
       "15528     3.0\n",
       "15841     6.0\n",
       "Name: uniformity_of_cell_shape, Length: 152, dtype: float64"
      ]
     },
     "execution_count": 28,
     "metadata": {},
     "output_type": "execute_result"
    }
   ],
   "source": [
    "data_clean = data_clean.apply(lambda x: pd.to_numeric(x, errors='coerce'))\n",
    "\n",
    "\n",
    "def dec_magnitude(x):\n",
    "    \n",
    "\n",
    "data_clean.uniformity_of_cell_shape[data_clean.uniformity_of_cell_shape > 10] / 10"
   ]
  },
  {
   "cell_type": "markdown",
   "metadata": {},
   "source": [
    "According to the data description all columns record numbers between 1 and 10. Let's make sure that is true. "
   ]
  },
  {
   "cell_type": "markdown",
   "metadata": {},
   "source": [
    "Now that i'm looking at the non-na value-d data, we can begin to explore some of the variables.\n",
    "\n",
    "Our response variable -- the value of interest -- is the cancer state of the patient. this is the variable `class` in the dataset.\n",
    "\n",
    "The other variables are bound between 1 and 10. The difficulty here is understanding if these values are different states of categorical variables or they are (discrete) measures. Looking at the prompt and the explination of variables, my best guess is that they are measures."
   ]
  },
  {
   "cell_type": "code",
   "execution_count": 51,
   "metadata": {},
   "outputs": [],
   "source": [
    "# data_clean.clump_thickness"
   ]
  },
  {
   "cell_type": "code",
   "execution_count": null,
   "metadata": {},
   "outputs": [],
   "source": []
  }
 ],
 "metadata": {
  "kernelspec": {
   "display_name": "Python 3",
   "language": "python",
   "name": "python3"
  },
  "language_info": {
   "codemirror_mode": {
    "name": "ipython",
    "version": 3
   },
   "file_extension": ".py",
   "mimetype": "text/x-python",
   "name": "python",
   "nbconvert_exporter": "python",
   "pygments_lexer": "ipython3",
   "version": "3.6.8"
  }
 },
 "nbformat": 4,
 "nbformat_minor": 2
}
